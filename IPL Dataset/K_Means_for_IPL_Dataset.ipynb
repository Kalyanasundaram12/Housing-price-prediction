{
  "nbformat": 4,
  "nbformat_minor": 0,
  "metadata": {
    "colab": {
      "provenance": []
    },
    "kernelspec": {
      "name": "python3",
      "display_name": "Python 3"
    },
    "language_info": {
      "name": "python"
    }
  },
  "cells": [
    {
      "cell_type": "code",
      "execution_count": 1,
      "metadata": {
        "colab": {
          "base_uri": "https://localhost:8080/"
        },
        "id": "ktJjz-PerqWL",
        "outputId": "7f4c72ea-66fc-4bcc-cb08-f9ef03e8eade"
      },
      "outputs": [
        {
          "output_type": "stream",
          "name": "stdout",
          "text": [
            "Mounted at /content/gdrive\n"
          ]
        }
      ],
      "source": [
        "from google.colab import drive\n",
        "drive.mount('/content/gdrive')"
      ]
    },
    {
      "cell_type": "code",
      "source": [
        "import numpy as np\n",
        "import pickle\n",
        "import pandas as pd\n",
        "import sklearn as skl\n",
        "import seaborn as sns\n",
        "from sklearn import datasets\n",
        "import matplotlib.pyplot as plt\n",
        "from sklearn.cluster import KMeans"
      ],
      "metadata": {
        "id": "Iy0JLJHzsLAG"
      },
      "execution_count": 2,
      "outputs": []
    },
    {
      "cell_type": "code",
      "source": [
        "df = pd.read_csv(\"/content/ipl_dataset.csv\")"
      ],
      "metadata": {
        "id": "wOXm1qJAsP4Z"
      },
      "execution_count": 3,
      "outputs": []
    },
    {
      "cell_type": "code",
      "source": [
        "type(df)"
      ],
      "metadata": {
        "colab": {
          "base_uri": "https://localhost:8080/"
        },
        "id": "n7iKox2gsbKB",
        "outputId": "9f7daf22-6e22-4387-ba44-cd402f7377fe"
      },
      "execution_count": 4,
      "outputs": [
        {
          "output_type": "execute_result",
          "data": {
            "text/plain": [
              "pandas.core.frame.DataFrame"
            ]
          },
          "metadata": {},
          "execution_count": 4
        }
      ]
    },
    {
      "cell_type": "markdown",
      "source": [
        "Cleaning the NaN values in the dataset"
      ],
      "metadata": {
        "id": "nWzdZpGhwZBB"
      }
    },
    {
      "cell_type": "code",
      "source": [
        "df.isnull().sum()"
      ],
      "metadata": {
        "colab": {
          "base_uri": "https://localhost:8080/"
        },
        "id": "iMpAzUNPsdh-",
        "outputId": "0f3ee40a-22c9-4606-e5be-51a9989698e7"
      },
      "execution_count": 5,
      "outputs": [
        {
          "output_type": "execute_result",
          "data": {
            "text/plain": [
              "full_scorecard       0\n",
              "team1                0\n",
              "team2                8\n",
              "team1_score         28\n",
              "team2_score         10\n",
              "toss_winner          8\n",
              "toss_choice          0\n",
              "winner               0\n",
              "margin               0\n",
              "man_of_the_match     8\n",
              "stadium              8\n",
              "place               84\n",
              "dtype: int64"
            ]
          },
          "metadata": {},
          "execution_count": 5
        }
      ]
    },
    {
      "cell_type": "code",
      "source": [
        "new_df = df.fillna(0)\n",
        "new_df"
      ],
      "metadata": {
        "id": "H64GR74fsmK6"
      },
      "execution_count": null,
      "outputs": []
    },
    {
      "cell_type": "code",
      "source": [
        "new_df = df.fillna(method=\"ffill\")\n",
        "new_df"
      ],
      "metadata": {
        "id": "6ywD67kYsrCt"
      },
      "execution_count": null,
      "outputs": []
    },
    {
      "cell_type": "code",
      "source": [
        "new_df = df.fillna(method=\"ffill\",limit=1)\n",
        "new_df"
      ],
      "metadata": {
        "id": "w1L3IjtWsu6i"
      },
      "execution_count": null,
      "outputs": []
    },
    {
      "cell_type": "code",
      "source": [
        "new_df = df.fillna(method=\"bfill\")"
      ],
      "metadata": {
        "id": "od9M-LeftIKE"
      },
      "execution_count": 32,
      "outputs": []
    },
    {
      "cell_type": "code",
      "source": [
        "new_df = df.interpolate() \n",
        "df "
      ],
      "metadata": {
        "id": "U798ZWmktsa3"
      },
      "execution_count": null,
      "outputs": []
    },
    {
      "cell_type": "code",
      "source": [
        "new_df = df.dropna()\n",
        "new_df"
      ],
      "metadata": {
        "id": "GdY9Q3v7tu_k"
      },
      "execution_count": null,
      "outputs": []
    },
    {
      "cell_type": "code",
      "source": [
        "new_df = df.dropna(how='all')\n",
        "new_df "
      ],
      "metadata": {
        "id": "3sphVXgItzM2"
      },
      "execution_count": null,
      "outputs": []
    },
    {
      "cell_type": "markdown",
      "source": [
        "K-Means Clustering"
      ],
      "metadata": {
        "id": "Xcq4id19weMC"
      }
    },
    {
      "cell_type": "code",
      "source": [
        "new_df.info"
      ],
      "metadata": {
        "colab": {
          "base_uri": "https://localhost:8080/"
        },
        "id": "n790jn36t0oA",
        "outputId": "807140a3-117b-4d58-e63f-689692f4fb5e"
      },
      "execution_count": 29,
      "outputs": [
        {
          "output_type": "execute_result",
          "data": {
            "text/plain": [
              "<bound method DataFrame.info of                                         full_scorecard  \\\n",
              "0    https://stats.espncricinfo.com/ci/engine/match...   \n",
              "1    https://stats.espncricinfo.com/ci/engine/match...   \n",
              "2    https://stats.espncricinfo.com/ci/engine/match...   \n",
              "3    https://stats.espncricinfo.com/ci/engine/match...   \n",
              "4    https://stats.espncricinfo.com/ci/engine/match...   \n",
              "..                                                 ...   \n",
              "953  https://stats.espncricinfo.com/ci/engine/match...   \n",
              "954  https://stats.espncricinfo.com/ci/engine/match...   \n",
              "955  https://stats.espncricinfo.com/ci/engine/match...   \n",
              "956  https://stats.espncricinfo.com/ci/engine/match...   \n",
              "957  https://stats.espncricinfo.com/ci/engine/match...   \n",
              "\n",
              "                           team1                  team2  team1_score  \\\n",
              "0            Chennai Super Kings  Kolkata Knight Riders        131.0   \n",
              "1                 Mumbai Indians         Delhi Capitals        177.0   \n",
              "2    Royal Challengers Bangalore           Punjab Kings        205.0   \n",
              "3           Lucknow Super Giants         Gujarat Titans        158.0   \n",
              "4               Rajasthan Royals    Sunrisers Hyderabad        210.0   \n",
              "..                           ...                    ...          ...   \n",
              "953  Royal Challengers Bangalore         Mumbai Indians        999.0   \n",
              "954              Kings XI Punjab       Rajasthan Royals        221.0   \n",
              "955             Rajasthan Royals       Delhi Daredevils        192.0   \n",
              "956              Kings XI Punjab    Chennai Super Kings        112.0   \n",
              "957          Chennai Super Kings       Rajasthan Royals        163.0   \n",
              "\n",
              "     team2_score            toss_winner toss_choice    winner     margin  \\\n",
              "0          133.0  Kolkata Knight Riders       Field       KKR  6 wickets   \n",
              "1          179.0         Delhi Capitals       Field  Capitals  4 wickets   \n",
              "2          208.0           Punjab Kings       Field    Punjab  5 wickets   \n",
              "3          161.0         Gujarat Titans       Field    Titans  5 wickets   \n",
              "4          149.0    Sunrisers Hyderabad       Field    Royals    61 runs   \n",
              "..           ...                    ...         ...       ...        ...   \n",
              "953        126.0         Mumbai Indians       Field    Mumbai  9 wickets   \n",
              "954        180.0       Rajasthan Royals       Field     Kings    41 runs   \n",
              "955         87.0       Delhi Daredevils       Field    Royals   105 runs   \n",
              "956        116.0        Kings XI Punjab         Bat     Super  9 wickets   \n",
              "957        164.0       Rajasthan Royals       Field    Royals  3 wickets   \n",
              "\n",
              "     man_of_the_match                                  stadium      place  \n",
              "0         Umesh Yadav                         Wankhede Stadium     Mumbai  \n",
              "1       Kuldeep Yadav                        Brabourne Stadium     Mumbai  \n",
              "2         Odean Smith               Dr DY Patil Sports Academy     Mumbai  \n",
              "3      Mohammed Shami                         Wankhede Stadium     Mumbai  \n",
              "4        Sanju Samson  Maharashtra Cricket Association Stadium       Pune  \n",
              "..                ...                                      ...        ...  \n",
              "953  Dilhara Fernando                    M Chinnaswamy Stadium  Bangalore  \n",
              "954       Shaun Marsh       Punjab Cricket Association Stadium     Mohali  \n",
              "955      Shane Watson                         Wankhede Stadium     Mumbai  \n",
              "956     Makhaya Ntini                         Wankhede Stadium     Mumbai  \n",
              "957      Yusuf Pathan               Dr DY Patil Sports Academy     Mumbai  \n",
              "\n",
              "[958 rows x 12 columns]>"
            ]
          },
          "metadata": {},
          "execution_count": 29
        }
      ]
    },
    {
      "cell_type": "code",
      "source": [
        "x=new_df.iloc[:,[3,4]].values\n",
        "print(x)"
      ],
      "metadata": {
        "colab": {
          "base_uri": "https://localhost:8080/"
        },
        "id": "1V_Z2Y9suBrp",
        "outputId": "834f8c92-ca56-4b62-e55d-e0fce5fcff68"
      },
      "execution_count": 36,
      "outputs": [
        {
          "output_type": "stream",
          "name": "stdout",
          "text": [
            "[[131. 133.]\n",
            " [177. 179.]\n",
            " [205. 208.]\n",
            " ...\n",
            " [192.  87.]\n",
            " [112. 116.]\n",
            " [163. 164.]]\n"
          ]
        }
      ]
    },
    {
      "cell_type": "code",
      "source": [
        "wcss=[]\n",
        "for i in range(1,13):\n",
        "  kmeans=KMeans(n_clusters=i,init='k-means++',random_state=50)\n",
        "  kmeans.fit(x)\n",
        "  wcss.append(kmeans.inertia_)"
      ],
      "metadata": {
        "colab": {
          "base_uri": "https://localhost:8080/"
        },
        "id": "B4nyAqgfuF6C",
        "outputId": "740d7879-a812-4a48-88a7-fa206b335a91"
      },
      "execution_count": 37,
      "outputs": [
        {
          "output_type": "stream",
          "name": "stderr",
          "text": [
            "/usr/local/lib/python3.9/dist-packages/sklearn/cluster/_kmeans.py:870: FutureWarning: The default value of `n_init` will change from 10 to 'auto' in 1.4. Set the value of `n_init` explicitly to suppress the warning\n",
            "  warnings.warn(\n",
            "/usr/local/lib/python3.9/dist-packages/sklearn/cluster/_kmeans.py:870: FutureWarning: The default value of `n_init` will change from 10 to 'auto' in 1.4. Set the value of `n_init` explicitly to suppress the warning\n",
            "  warnings.warn(\n",
            "/usr/local/lib/python3.9/dist-packages/sklearn/cluster/_kmeans.py:870: FutureWarning: The default value of `n_init` will change from 10 to 'auto' in 1.4. Set the value of `n_init` explicitly to suppress the warning\n",
            "  warnings.warn(\n",
            "/usr/local/lib/python3.9/dist-packages/sklearn/cluster/_kmeans.py:870: FutureWarning: The default value of `n_init` will change from 10 to 'auto' in 1.4. Set the value of `n_init` explicitly to suppress the warning\n",
            "  warnings.warn(\n",
            "/usr/local/lib/python3.9/dist-packages/sklearn/cluster/_kmeans.py:870: FutureWarning: The default value of `n_init` will change from 10 to 'auto' in 1.4. Set the value of `n_init` explicitly to suppress the warning\n",
            "  warnings.warn(\n",
            "/usr/local/lib/python3.9/dist-packages/sklearn/cluster/_kmeans.py:870: FutureWarning: The default value of `n_init` will change from 10 to 'auto' in 1.4. Set the value of `n_init` explicitly to suppress the warning\n",
            "  warnings.warn(\n",
            "/usr/local/lib/python3.9/dist-packages/sklearn/cluster/_kmeans.py:870: FutureWarning: The default value of `n_init` will change from 10 to 'auto' in 1.4. Set the value of `n_init` explicitly to suppress the warning\n",
            "  warnings.warn(\n",
            "/usr/local/lib/python3.9/dist-packages/sklearn/cluster/_kmeans.py:870: FutureWarning: The default value of `n_init` will change from 10 to 'auto' in 1.4. Set the value of `n_init` explicitly to suppress the warning\n",
            "  warnings.warn(\n",
            "/usr/local/lib/python3.9/dist-packages/sklearn/cluster/_kmeans.py:870: FutureWarning: The default value of `n_init` will change from 10 to 'auto' in 1.4. Set the value of `n_init` explicitly to suppress the warning\n",
            "  warnings.warn(\n",
            "/usr/local/lib/python3.9/dist-packages/sklearn/cluster/_kmeans.py:870: FutureWarning: The default value of `n_init` will change from 10 to 'auto' in 1.4. Set the value of `n_init` explicitly to suppress the warning\n",
            "  warnings.warn(\n",
            "/usr/local/lib/python3.9/dist-packages/sklearn/cluster/_kmeans.py:870: FutureWarning: The default value of `n_init` will change from 10 to 'auto' in 1.4. Set the value of `n_init` explicitly to suppress the warning\n",
            "  warnings.warn(\n",
            "/usr/local/lib/python3.9/dist-packages/sklearn/cluster/_kmeans.py:870: FutureWarning: The default value of `n_init` will change from 10 to 'auto' in 1.4. Set the value of `n_init` explicitly to suppress the warning\n",
            "  warnings.warn(\n"
          ]
        }
      ]
    },
    {
      "cell_type": "code",
      "source": [
        "sns.set()\n",
        "plt.plot(range(1,13),wcss)\n",
        "plt.title('The Elbow Point Graph')\n",
        "plt.xlabel('Number of Clusters')\n",
        "plt.ylabel('WCSS')\n",
        "plt.show"
      ],
      "metadata": {
        "colab": {
          "base_uri": "https://localhost:8080/",
          "height": 318
        },
        "id": "3VQbaDPfvXtF",
        "outputId": "85c02d72-da52-499e-a8e7-35d59c72d65d"
      },
      "execution_count": 43,
      "outputs": [
        {
          "output_type": "execute_result",
          "data": {
            "text/plain": [
              "<function matplotlib.pyplot.show(close=None, block=None)>"
            ]
          },
          "metadata": {},
          "execution_count": 43
        },
        {
          "output_type": "display_data",
          "data": {
            "text/plain": [
              "<Figure size 432x288 with 1 Axes>"
            ],
            "image/png": "[encoded data removed]"
          },
          "metadata": {}
        }
      ]
    },
    {
      "cell_type": "code",
      "source": [
        "kmeans = KMeans(n_clusters=3,init='k-means++' ,random_state=0)\n",
        "\n",
        "#return label for each datapoint based on clusters\n",
        "y = kmeans.fit_predict(x)\n",
        "print(y)"
      ],
      "metadata": {
        "colab": {
          "base_uri": "https://localhost:8080/"
        },
        "id": "5BjRKcTFvrfg",
        "outputId": "01e0091a-5d33-48d5-c2aa-2005cf024f35"
      },
      "execution_count": 42,
      "outputs": [
        {
          "output_type": "stream",
          "name": "stdout",
          "text": [
            "[0 0 0 0 0 0 0 0 0 0 0 0 0 0 0 0 0 0 0 0 0 0 0 0 0 0 0 0 0 0 0 0 0 0 0 0 0\n",
            " 0 0 0 0 0 0 0 0 0 0 0 0 0 0 0 0 0 0 0 0 0 0 0 0 0 0 0 0 0 0 0 0 0 0 0 0 0\n",
            " 0 0 0 0 0 0 0 0 0 0 0 0 0 0 0 0 0 0 0 0 0 0 0 0 0 0 0 0 0 0 0 0 0 0 0 0 0\n",
            " 0 0 0 0 0 0 0 0 0 0 0 0 0 0 0 0 0 0 0 0 0 0 0 0 0 0 0 0 0 0 0 0 0 0 0 0 0\n",
            " 0 0 0 0 0 0 0 0 0 0 0 0 0 0 0 0 0 0 0 0 0 0 0 0 0 0 0 0 0 0 0 0 0 0 0 0 0\n",
            " 0 0 0 0 0 0 0 0 0 0 0 0 0 0 0 0 0 0 0 0 0 0 0 0 0 0 0 0 0 0 0 0 0 0 0 0 0\n",
            " 0 0 0 0 0 0 0 0 0 0 0 0 0 0 0 0 0 0 0 0 1 0 0 0 0 0 0 0 0 0 0 0 0 0 0 0 0\n",
            " 1 0 0 0 0 0 0 0 0 0 0 0 0 0 0 0 0 0 0 0 0 0 0 0 0 0 1 0 0 0 0 0 0 0 0 0 0\n",
            " 0 0 0 0 0 0 0 0 0 0 0 0 0 0 0 0 0 0 0 0 0 0 0 0 0 0 0 0 0 0 0 0 0 0 0 0 0\n",
            " 0 0 0 0 0 0 0 0 0 2 0 0 0 0 0 0 0 0 0 0 0 0 0 0 0 0 0 0 0 0 0 0 0 0 0 0 0\n",
            " 0 0 0 0 0 0 0 0 0 0 0 0 0 0 0 0 0 0 0 0 0 0 0 0 0 0 0 0 0 0 0 0 0 0 0 0 0\n",
            " 0 0 0 0 0 0 0 0 0 0 0 1 0 0 0 0 1 0 0 0 0 0 0 0 0 0 0 0 0 0 0 0 0 0 0 0 0\n",
            " 0 0 0 0 0 0 0 0 0 0 0 0 0 0 2 0 0 0 2 0 0 0 1 0 0 0 0 0 0 0 0 0 0 0 0 0 0\n",
            " 0 0 1 0 1 0 0 0 0 0 0 0 0 0 0 0 0 0 0 0 0 0 0 0 0 0 0 0 0 0 0 0 0 1 0 0 0\n",
            " 0 0 0 0 0 0 0 0 0 0 0 0 0 0 0 0 0 0 0 0 0 0 0 0 0 0 0 0 0 0 0 0 0 0 0 0 0\n",
            " 0 0 0 0 0 0 0 0 0 0 0 0 0 0 0 0 0 0 0 0 0 0 0 0 0 0 0 0 0 0 0 0 0 0 0 0 0\n",
            " 0 0 0 0 0 0 0 0 0 0 0 0 0 0 0 0 0 0 0 0 0 0 0 0 0 0 0 0 0 0 0 1 0 0 0 0 0\n",
            " 0 0 1 0 0 0 0 0 0 0 0 0 0 0 0 0 0 0 0 0 0 0 0 0 0 0 0 0 0 0 0 0 2 0 2 0 0\n",
            " 0 0 0 0 0 0 0 0 0 0 0 0 0 0 0 0 0 0 0 0 0 0 0 0 0 0 0 0 0 0 0 0 0 0 0 0 0\n",
            " 0 0 0 0 0 0 0 0 0 0 0 0 0 0 0 0 0 0 0 0 1 0 2 0 0 0 0 0 0 0 0 0 0 0 0 0 0\n",
            " 0 0 0 0 0 0 0 0 0 0 0 0 0 0 0 0 0 0 0 0 0 0 0 1 0 0 0 0 0 0 0 0 0 2 0 0 0\n",
            " 0 0 0 0 0 0 0 0 0 0 0 0 0 0 0 0 0 0 0 0 0 0 0 0 0 0 0 0 0 0 0 0 0 0 0 0 0\n",
            " 0 0 0 0 0 0 0 0 0 0 0 0 0 0 0 0 0 0 0 0 0 0 0 0 0 0 0 0 1 0 0 0 2 0 0 0 0\n",
            " 0 2 0 0 0 0 0 0 0 0 0 0 0 0 0 0 0 0 0 0 0 0 1 0 0 0 0 0 0 0 0 0 0 0 0 0 0\n",
            " 0 0 0 0 0 0 0 0 0 0 0 0 0 0 0 0 0 0 0 0 0 0 0 0 0 0 0 0 0 0 0 0 0 0 0 0 0\n",
            " 0 0 1 0 0 0 0 0 0 0 0 0 0 1 0 0 0 0 0 0 2 0 0 0 0 0 0 0 1 0 0 0 0]\n"
          ]
        },
        {
          "output_type": "stream",
          "name": "stderr",
          "text": [
            "/usr/local/lib/python3.9/dist-packages/sklearn/cluster/_kmeans.py:870: FutureWarning: The default value of `n_init` will change from 10 to 'auto' in 1.4. Set the value of `n_init` explicitly to suppress the warning\n",
            "  warnings.warn(\n"
          ]
        }
      ]
    },
    {
      "cell_type": "code",
      "source": [
        "plt.figure(figsize=(8,8))\n",
        "plt.scatter(x[y==0,0],x[y==0,1],s=50, c='green',label='Cluster 1')\n",
        "plt.scatter(x[y==1,0],x[y==1,1],s=50, c='blue',label='Cluster 2')\n",
        "plt.scatter(x[y==2,0],x[y==2,1],s=50, c='pink',label='Cluster 3')\n",
        "\n",
        "#ploting centroids\n",
        "plt.scatter(kmeans.cluster_centers_[:,0],kmeans.cluster_centers_[:,1],s=100,c='black',label='Centroids')\n",
        "plt.title('IPL Dataset Cluster')\n",
        "plt.xlabel('team1_score')\n",
        "plt.ylabel('team2_score')\n",
        "plt.show()"
      ],
      "metadata": {
        "colab": {
          "base_uri": "https://localhost:8080/",
          "height": 518
        },
        "id": "5P_MW4rbv-ED",
        "outputId": "b4499d76-d928-495d-e912-551d0b807c77"
      },
      "execution_count": 46,
      "outputs": [
        {
          "output_type": "display_data",
          "data": {
            "text/plain": [
              "<Figure size 576x576 with 1 Axes>"
            ],
            "image/png": "[encoded data removed]"
          },
          "metadata": {}
        }
      ]
    }
  ]
}